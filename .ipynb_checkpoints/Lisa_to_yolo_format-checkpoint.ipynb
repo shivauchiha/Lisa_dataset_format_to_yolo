{
 "cells": [
  {
   "cell_type": "code",
   "execution_count": 1,
   "metadata": {},
   "outputs": [],
   "source": [
    "import pandas as pd\n",
    "import numpy as np\n",
    "import os\n",
    "import glob\n",
    "import cv2"
   ]
  },
  {
   "cell_type": "code",
   "execution_count": 2,
   "metadata": {},
   "outputs": [],
   "source": [
    "curr_path = os.getcwd()"
   ]
  },
  {
   "cell_type": "code",
   "execution_count": 3,
   "metadata": {},
   "outputs": [],
   "source": [
    "Annotation_path = curr_path+\"/Data/Annotations/Annotations\"\n",
    "image_path = curr_path+\"/Data\"\n",
    "Yolo = curr_path+\"/Yolo\""
   ]
  },
  {
   "cell_type": "code",
   "execution_count": 4,
   "metadata": {},
   "outputs": [],
   "source": [
    "an_files = glob.glob(Annotation_path+'/*')\n",
    "img_files = glob.glob(image_path+'/*')\n",
    "img_files.remove('/home/shyam/Downloads/LISA_Annotation/Data/Annotations')\n",
    "img_files.remove('/home/shyam/Downloads/LISA_Annotation/Data/sample-nightClip1')\n",
    "img_files.remove('/home/shyam/Downloads/LISA_Annotation/Data/sample-dayClip6')\n",
    "img_files.remove('/home/shyam/Downloads/LISA_Annotation/Data/dayTrain')\n",
    "img_files.remove('/home/shyam/Downloads/LISA_Annotation/Data/nightTrain')\n",
    "an_files.remove('/home/shyam/Downloads/LISA_Annotation/Data/Annotations/Annotations/dayTrain')\n",
    "an_files.remove('/home/shyam/Downloads/LISA_Annotation/Data/Annotations/Annotations/nightTrain')"
   ]
  },
  {
   "cell_type": "code",
   "execution_count": 5,
   "metadata": {},
   "outputs": [
    {
     "name": "stdout",
     "output_type": "stream",
     "text": [
      "/home/shyam/Downloads/LISA_Annotation/Data/Annotations/Annotations/daySequence2\n",
      "/home/shyam/Downloads/LISA_Annotation/Data/Annotations/Annotations/daySequence1\n",
      "/home/shyam/Downloads/LISA_Annotation/Data/Annotations/Annotations/nightSequence2\n",
      "/home/shyam/Downloads/LISA_Annotation/Data/Annotations/Annotations/nightSequence1\n"
     ]
    }
   ],
   "source": [
    "for i in an_files:\n",
    "    print(i)"
   ]
  },
  {
   "cell_type": "code",
   "execution_count": 6,
   "metadata": {},
   "outputs": [
    {
     "data": {
      "text/plain": [
       "10120"
      ]
     },
     "execution_count": 6,
     "metadata": {},
     "output_type": "execute_result"
    }
   ],
   "source": [
    "\n",
    "an_csv=pd.read_csv(an_files[0]+'/frameAnnotationsBOX.csv',sep=';')\n",
    "len(an_csv)"
   ]
  },
  {
   "cell_type": "code",
   "execution_count": 7,
   "metadata": {},
   "outputs": [],
   "source": [
    "#\n",
    "def convert(size, box):\n",
    "    dw = 1./(size[0])\n",
    "    dh = 1./(size[1])\n",
    "    x = (box[0] + box[1])/2.0 - 1\n",
    "    y = (box[2] + box[3])/2.0 - 1\n",
    "    w = box[1] - box[0]\n",
    "    h = box[3] - box[2]\n",
    "    x = x*dw\n",
    "    w = w*dw\n",
    "    y = y*dh\n",
    "    h = h*dh\n",
    "    return (x,y,w,h)"
   ]
  },
  {
   "cell_type": "code",
   "execution_count": 8,
   "metadata": {},
   "outputs": [],
   "source": [
    "def generate(anncsv,curr_path,an_files,Yolo):\n",
    "    class_list ={\"stop\":0,\"go\":1,\"stopLeft\":2,\"goForward\":3,\"goLeft\":4,\"warning\":5,\"warningLeft\":6}\n",
    "    print (\"progressing\")\n",
    "    for index, row in anncsv.iterrows():\n",
    "        img_name=os.path.basename(os.path.splitext(an_csv.iloc[index]['Filename'])[0])\n",
    "        ux=an_csv.iloc[index]['Upper left corner X']\n",
    "        uy=an_csv.iloc[index]['Upper left corner Y']\n",
    "        lx=an_csv.iloc[index]['Lower right corner X']\n",
    "        ly=an_csv.iloc[index]['Lower right corner Y']\n",
    "        box = [ux,lx,uy,ly]\n",
    "        img_path_data_sel = os.path.basename(os.path.splitext(an_files)[0])\n",
    "        img_path = curr_path+\"/Data\"+\"/\"+img_path_data_sel+\"/\"+img_path_data_sel+\"/frames\"\n",
    "        img_file_name = os.path.basename(anncsv.iloc[index]['Filename'])\n",
    "        image = cv2.imread(img_path +\"/\"+img_file_name)\n",
    "        x,y,width,height = convert([image.shape[1],image.shape[0]],box)\n",
    "        class_id = class_list[an_csv.iloc[index]['Annotation tag']]\n",
    "        cv2.imwrite(Yolo+\"/\"+img_name+\".jpg\", image)\n",
    "        file1 = open(Yolo+\"/\"+img_name+\".txt\",\"a\")\n",
    "        file1.write(\"{} {} {} {} {}\\n\".format(class_id,x,y,width,height))\n",
    "        file1.close()\n",
    "        \n",
    "    print (\"complete {}\".format(img_path_data_sel))        \n",
    "        \n",
    "        \n",
    "        \n",
    "    \n",
    "    "
   ]
  },
  {
   "cell_type": "code",
   "execution_count": 9,
   "metadata": {},
   "outputs": [
    {
     "name": "stdout",
     "output_type": "stream",
     "text": [
      "progressing\n",
      "complete daySequence2\n",
      "progressing\n",
      "complete daySequence1\n",
      "progressing\n"
     ]
    },
    {
     "ename": "KeyboardInterrupt",
     "evalue": "",
     "output_type": "error",
     "traceback": [
      "\u001b[0;31m---------------------------------------------------------------------------\u001b[0m",
      "\u001b[0;31mKeyboardInterrupt\u001b[0m                         Traceback (most recent call last)",
      "\u001b[0;32m<ipython-input-9-18600867d57e>\u001b[0m in \u001b[0;36m<module>\u001b[0;34m\u001b[0m\n\u001b[1;32m      1\u001b[0m \u001b[0;32mfor\u001b[0m \u001b[0mi\u001b[0m \u001b[0;32min\u001b[0m \u001b[0man_files\u001b[0m\u001b[0;34m:\u001b[0m\u001b[0;34m\u001b[0m\u001b[0;34m\u001b[0m\u001b[0m\n\u001b[1;32m      2\u001b[0m     \u001b[0man_csv\u001b[0m\u001b[0;34m=\u001b[0m\u001b[0mpd\u001b[0m\u001b[0;34m.\u001b[0m\u001b[0mread_csv\u001b[0m\u001b[0;34m(\u001b[0m\u001b[0mi\u001b[0m\u001b[0;34m+\u001b[0m\u001b[0;34m'/frameAnnotationsBOX.csv'\u001b[0m\u001b[0;34m,\u001b[0m\u001b[0msep\u001b[0m\u001b[0;34m=\u001b[0m\u001b[0;34m';'\u001b[0m\u001b[0;34m)\u001b[0m\u001b[0;34m\u001b[0m\u001b[0;34m\u001b[0m\u001b[0m\n\u001b[0;32m----> 3\u001b[0;31m     \u001b[0mgenerate\u001b[0m\u001b[0;34m(\u001b[0m\u001b[0man_csv\u001b[0m\u001b[0;34m,\u001b[0m\u001b[0mcurr_path\u001b[0m\u001b[0;34m,\u001b[0m\u001b[0mi\u001b[0m\u001b[0;34m,\u001b[0m\u001b[0mYolo\u001b[0m\u001b[0;34m)\u001b[0m\u001b[0;34m\u001b[0m\u001b[0;34m\u001b[0m\u001b[0m\n\u001b[0m\u001b[1;32m      4\u001b[0m \u001b[0;34m\u001b[0m\u001b[0m\n\u001b[1;32m      5\u001b[0m \u001b[0;34m\u001b[0m\u001b[0m\n",
      "\u001b[0;32m<ipython-input-8-7b7c73b8f49c>\u001b[0m in \u001b[0;36mgenerate\u001b[0;34m(anncsv, curr_path, an_files, Yolo)\u001b[0m\n\u001b[1;32m     15\u001b[0m         \u001b[0mx\u001b[0m\u001b[0;34m,\u001b[0m\u001b[0my\u001b[0m\u001b[0;34m,\u001b[0m\u001b[0mwidth\u001b[0m\u001b[0;34m,\u001b[0m\u001b[0mheight\u001b[0m \u001b[0;34m=\u001b[0m \u001b[0mconvert\u001b[0m\u001b[0;34m(\u001b[0m\u001b[0;34m[\u001b[0m\u001b[0mimage\u001b[0m\u001b[0;34m.\u001b[0m\u001b[0mshape\u001b[0m\u001b[0;34m[\u001b[0m\u001b[0;36m1\u001b[0m\u001b[0;34m]\u001b[0m\u001b[0;34m,\u001b[0m\u001b[0mimage\u001b[0m\u001b[0;34m.\u001b[0m\u001b[0mshape\u001b[0m\u001b[0;34m[\u001b[0m\u001b[0;36m0\u001b[0m\u001b[0;34m]\u001b[0m\u001b[0;34m]\u001b[0m\u001b[0;34m,\u001b[0m\u001b[0mbox\u001b[0m\u001b[0;34m)\u001b[0m\u001b[0;34m\u001b[0m\u001b[0;34m\u001b[0m\u001b[0m\n\u001b[1;32m     16\u001b[0m         \u001b[0mclass_id\u001b[0m \u001b[0;34m=\u001b[0m \u001b[0mclass_list\u001b[0m\u001b[0;34m[\u001b[0m\u001b[0man_csv\u001b[0m\u001b[0;34m.\u001b[0m\u001b[0miloc\u001b[0m\u001b[0;34m[\u001b[0m\u001b[0mindex\u001b[0m\u001b[0;34m]\u001b[0m\u001b[0;34m[\u001b[0m\u001b[0;34m'Annotation tag'\u001b[0m\u001b[0;34m]\u001b[0m\u001b[0;34m]\u001b[0m\u001b[0;34m\u001b[0m\u001b[0;34m\u001b[0m\u001b[0m\n\u001b[0;32m---> 17\u001b[0;31m         \u001b[0mcv2\u001b[0m\u001b[0;34m.\u001b[0m\u001b[0mimwrite\u001b[0m\u001b[0;34m(\u001b[0m\u001b[0mYolo\u001b[0m\u001b[0;34m+\u001b[0m\u001b[0;34m\"/\"\u001b[0m\u001b[0;34m+\u001b[0m\u001b[0mimg_name\u001b[0m\u001b[0;34m+\u001b[0m\u001b[0;34m\".jpg\"\u001b[0m\u001b[0;34m,\u001b[0m \u001b[0mimage\u001b[0m\u001b[0;34m)\u001b[0m\u001b[0;34m\u001b[0m\u001b[0;34m\u001b[0m\u001b[0m\n\u001b[0m\u001b[1;32m     18\u001b[0m         \u001b[0mfile1\u001b[0m \u001b[0;34m=\u001b[0m \u001b[0mopen\u001b[0m\u001b[0;34m(\u001b[0m\u001b[0mYolo\u001b[0m\u001b[0;34m+\u001b[0m\u001b[0;34m\"/\"\u001b[0m\u001b[0;34m+\u001b[0m\u001b[0mimg_name\u001b[0m\u001b[0;34m+\u001b[0m\u001b[0;34m\".txt\"\u001b[0m\u001b[0;34m,\u001b[0m\u001b[0;34m\"a\"\u001b[0m\u001b[0;34m)\u001b[0m\u001b[0;34m\u001b[0m\u001b[0;34m\u001b[0m\u001b[0m\n\u001b[1;32m     19\u001b[0m         \u001b[0mfile1\u001b[0m\u001b[0;34m.\u001b[0m\u001b[0mwrite\u001b[0m\u001b[0;34m(\u001b[0m\u001b[0;34m\"{} {} {} {} {}\\n\"\u001b[0m\u001b[0;34m.\u001b[0m\u001b[0mformat\u001b[0m\u001b[0;34m(\u001b[0m\u001b[0mclass_id\u001b[0m\u001b[0;34m,\u001b[0m\u001b[0mx\u001b[0m\u001b[0;34m,\u001b[0m\u001b[0my\u001b[0m\u001b[0;34m,\u001b[0m\u001b[0mwidth\u001b[0m\u001b[0;34m,\u001b[0m\u001b[0mheight\u001b[0m\u001b[0;34m)\u001b[0m\u001b[0;34m)\u001b[0m\u001b[0;34m\u001b[0m\u001b[0;34m\u001b[0m\u001b[0m\n",
      "\u001b[0;31mKeyboardInterrupt\u001b[0m: "
     ]
    }
   ],
   "source": [
    "for i in an_files:\n",
    "    an_csv=pd.read_csv(i+'/frameAnnotationsBOX.csv',sep=';')\n",
    "    generate(an_csv,curr_path,i,Yolo)\n",
    "    \n",
    "\n"
   ]
  },
  {
   "cell_type": "code",
   "execution_count": null,
   "metadata": {},
   "outputs": [],
   "source": []
  }
 ],
 "metadata": {
  "kernelspec": {
   "display_name": "Python 3",
   "language": "python",
   "name": "python3"
  },
  "language_info": {
   "codemirror_mode": {
    "name": "ipython",
    "version": 3
   },
   "file_extension": ".py",
   "mimetype": "text/x-python",
   "name": "python",
   "nbconvert_exporter": "python",
   "pygments_lexer": "ipython3",
   "version": "3.7.6"
  }
 },
 "nbformat": 4,
 "nbformat_minor": 4
}
